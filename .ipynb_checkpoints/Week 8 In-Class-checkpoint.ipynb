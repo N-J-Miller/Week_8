{
 "cells": [
  {
   "cell_type": "markdown",
   "id": "b963ab0b",
   "metadata": {},
   "source": [
    "# Group Activity"
   ]
  },
  {
   "cell_type": "markdown",
   "id": "86de4031",
   "metadata": {},
   "source": [
    "1. Lookup information on geometric mean and harmonic mean to answer the following\n",
    "questions:\n",
    "\n",
    "a. In a jupyter notebook create a markdown section for each of the three concepts:\n",
    "arithmetic mean, geometric mean, and harmonic mean\n",
    "\n",
    "b. Write a definition for arithmetic mean, geometric mean, and harmonic mean,\n",
    "under their respective headings\n",
    "\n",
    "c. Write a code example for arithmetic mean, geometric mean, and harmonic mean\n",
    "using the Belize Airbnb data in a cell under the each respective summary in\n",
    "markdown\n"
   ]
  },
  {
   "cell_type": "code",
   "execution_count": 43,
   "id": "c87ce85f",
   "metadata": {},
   "outputs": [],
   "source": [
    "# Dependencies and modules\n",
    "\n",
    "import numpy as np\n",
    "import pandas as pd\n",
    "import math\n",
    "import statistics\n",
    "from statistics import harmonic_mean\n",
    "from scipy import stats\n",
    "from scipy.stats.mstats import gmean\n",
    "import matplotlib.pyplot\n",
    "pd.options.display.float_format = '${:,.2f}'.format"
   ]
  },
  {
   "cell_type": "code",
   "execution_count": 2,
   "id": "61e85d7f",
   "metadata": {},
   "outputs": [
    {
     "data": {
      "text/html": [
       "<div>\n",
       "<style scoped>\n",
       "    .dataframe tbody tr th:only-of-type {\n",
       "        vertical-align: middle;\n",
       "    }\n",
       "\n",
       "    .dataframe tbody tr th {\n",
       "        vertical-align: top;\n",
       "    }\n",
       "\n",
       "    .dataframe thead th {\n",
       "        text-align: right;\n",
       "    }\n",
       "</style>\n",
       "<table border=\"1\" class=\"dataframe\">\n",
       "  <thead>\n",
       "    <tr style=\"text-align: right;\">\n",
       "      <th></th>\n",
       "      <th>id</th>\n",
       "      <th>name</th>\n",
       "      <th>host_id</th>\n",
       "      <th>host_name</th>\n",
       "      <th>neighbourhood_group</th>\n",
       "      <th>neighbourhood</th>\n",
       "      <th>latitude</th>\n",
       "      <th>longitude</th>\n",
       "      <th>room_type</th>\n",
       "      <th>price</th>\n",
       "      <th>minimum_nights</th>\n",
       "      <th>number_of_reviews</th>\n",
       "      <th>last_review</th>\n",
       "      <th>reviews_per_month</th>\n",
       "      <th>calculated_host_listings_count</th>\n",
       "      <th>availability_365</th>\n",
       "    </tr>\n",
       "  </thead>\n",
       "  <tbody>\n",
       "    <tr>\n",
       "      <th>0</th>\n",
       "      <td>36666</td>\n",
       "      <td>Mo's Cozy Casa w/ veranda &amp; access to dock</td>\n",
       "      <td>157752</td>\n",
       "      <td>Monique</td>\n",
       "      <td>Belize</td>\n",
       "      <td>Belize Islands</td>\n",
       "      <td>17.74786</td>\n",
       "      <td>-88.02398</td>\n",
       "      <td>Entire home/apt</td>\n",
       "      <td>141</td>\n",
       "      <td>3</td>\n",
       "      <td>250</td>\n",
       "      <td>2/23/2021</td>\n",
       "      <td>2.00</td>\n",
       "      <td>5</td>\n",
       "      <td>225</td>\n",
       "    </tr>\n",
       "    <tr>\n",
       "      <th>1</th>\n",
       "      <td>36690</td>\n",
       "      <td>Mo's Cozy Cabana w/ comfy veranda &amp; access to ...</td>\n",
       "      <td>157752</td>\n",
       "      <td>Monique</td>\n",
       "      <td>Belize</td>\n",
       "      <td>Belize Islands</td>\n",
       "      <td>17.74832</td>\n",
       "      <td>-88.02474</td>\n",
       "      <td>Entire home/apt</td>\n",
       "      <td>71</td>\n",
       "      <td>3</td>\n",
       "      <td>316</td>\n",
       "      <td>2/19/2021</td>\n",
       "      <td>2.46</td>\n",
       "      <td>5</td>\n",
       "      <td>164</td>\n",
       "    </tr>\n",
       "    <tr>\n",
       "      <th>2</th>\n",
       "      <td>108932</td>\n",
       "      <td>Purple House eco solar  w/ ocean &amp; wildlife views</td>\n",
       "      <td>563377</td>\n",
       "      <td>Michael</td>\n",
       "      <td>Belize</td>\n",
       "      <td>Belize Islands</td>\n",
       "      <td>17.73221</td>\n",
       "      <td>-88.03824</td>\n",
       "      <td>Entire home/apt</td>\n",
       "      <td>191</td>\n",
       "      <td>2</td>\n",
       "      <td>30</td>\n",
       "      <td>3/14/2020</td>\n",
       "      <td>0.78</td>\n",
       "      <td>1</td>\n",
       "      <td>364</td>\n",
       "    </tr>\n",
       "    <tr>\n",
       "      <th>3</th>\n",
       "      <td>110483</td>\n",
       "      <td>Michelo's fuchsia suite</td>\n",
       "      <td>567809</td>\n",
       "      <td>Michel</td>\n",
       "      <td>Stann Creek</td>\n",
       "      <td>Stann Creek Mainland</td>\n",
       "      <td>16.52114</td>\n",
       "      <td>-88.36926</td>\n",
       "      <td>Hotel room</td>\n",
       "      <td>121</td>\n",
       "      <td>1</td>\n",
       "      <td>27</td>\n",
       "      <td>2/24/2020</td>\n",
       "      <td>0.29</td>\n",
       "      <td>3</td>\n",
       "      <td>331</td>\n",
       "    </tr>\n",
       "    <tr>\n",
       "      <th>4</th>\n",
       "      <td>120115</td>\n",
       "      <td>Seaside Villas Second Floor Unit  #4</td>\n",
       "      <td>604999</td>\n",
       "      <td>Bobbi</td>\n",
       "      <td>Belize</td>\n",
       "      <td>Belize Islands</td>\n",
       "      <td>17.74166</td>\n",
       "      <td>-88.02395</td>\n",
       "      <td>Entire home/apt</td>\n",
       "      <td>343</td>\n",
       "      <td>1</td>\n",
       "      <td>30</td>\n",
       "      <td>3/18/2020</td>\n",
       "      <td>0.64</td>\n",
       "      <td>22</td>\n",
       "      <td>203</td>\n",
       "    </tr>\n",
       "  </tbody>\n",
       "</table>\n",
       "</div>"
      ],
      "text/plain": [
       "       id                                               name  host_id  \\\n",
       "0   36666         Mo's Cozy Casa w/ veranda & access to dock   157752   \n",
       "1   36690  Mo's Cozy Cabana w/ comfy veranda & access to ...   157752   \n",
       "2  108932  Purple House eco solar  w/ ocean & wildlife views   563377   \n",
       "3  110483                            Michelo's fuchsia suite   567809   \n",
       "4  120115               Seaside Villas Second Floor Unit  #4   604999   \n",
       "\n",
       "  host_name neighbourhood_group         neighbourhood  latitude  longitude  \\\n",
       "0   Monique              Belize        Belize Islands  17.74786  -88.02398   \n",
       "1   Monique              Belize        Belize Islands  17.74832  -88.02474   \n",
       "2   Michael              Belize        Belize Islands  17.73221  -88.03824   \n",
       "3    Michel         Stann Creek  Stann Creek Mainland  16.52114  -88.36926   \n",
       "4     Bobbi              Belize        Belize Islands  17.74166  -88.02395   \n",
       "\n",
       "         room_type  price  minimum_nights  number_of_reviews last_review  \\\n",
       "0  Entire home/apt    141               3                250   2/23/2021   \n",
       "1  Entire home/apt     71               3                316   2/19/2021   \n",
       "2  Entire home/apt    191               2                 30   3/14/2020   \n",
       "3       Hotel room    121               1                 27   2/24/2020   \n",
       "4  Entire home/apt    343               1                 30   3/18/2020   \n",
       "\n",
       "   reviews_per_month  calculated_host_listings_count  availability_365  \n",
       "0               2.00                               5               225  \n",
       "1               2.46                               5               164  \n",
       "2               0.78                               1               364  \n",
       "3               0.29                               3               331  \n",
       "4               0.64                              22               203  "
      ]
     },
     "execution_count": 2,
     "metadata": {},
     "output_type": "execute_result"
    }
   ],
   "source": [
    "belize_listings_path = \"C:/Users/Nik/Documents/belize_airbnb_listings.csv\"\n",
    "belize_df = pd.read_csv(belize_listings_path)\n",
    "belize_df.head()\n"
   ]
  },
  {
   "cell_type": "code",
   "execution_count": 1,
   "id": "a9cf3bfd",
   "metadata": {},
   "outputs": [],
   "source": []
  },
  {
   "cell_type": "markdown",
   "id": "374259de",
   "metadata": {},
   "source": [
    "## Arithmetic Mean"
   ]
  },
  {
   "cell_type": "markdown",
   "id": "95a9e9ee",
   "metadata": {},
   "source": [
    "This is the value of average that we use in our daily lives. It is computed by taking the sum of all values and dividing by the number of all values."
   ]
  },
  {
   "cell_type": "code",
   "execution_count": 15,
   "id": "0378ac84",
   "metadata": {},
   "outputs": [
    {
     "data": {
      "text/html": [
       "<div>\n",
       "<style scoped>\n",
       "    .dataframe tbody tr th:only-of-type {\n",
       "        vertical-align: middle;\n",
       "    }\n",
       "\n",
       "    .dataframe tbody tr th {\n",
       "        vertical-align: top;\n",
       "    }\n",
       "\n",
       "    .dataframe thead th {\n",
       "        text-align: right;\n",
       "    }\n",
       "</style>\n",
       "<table border=\"1\" class=\"dataframe\">\n",
       "  <thead>\n",
       "    <tr style=\"text-align: right;\">\n",
       "      <th></th>\n",
       "      <th>Average Price</th>\n",
       "    </tr>\n",
       "    <tr>\n",
       "      <th>neighbourhood</th>\n",
       "      <th></th>\n",
       "    </tr>\n",
       "  </thead>\n",
       "  <tbody>\n",
       "    <tr>\n",
       "      <th>Belize Islands</th>\n",
       "      <td>$399.44</td>\n",
       "    </tr>\n",
       "    <tr>\n",
       "      <th>Belize Mainland</th>\n",
       "      <td>$288.27</td>\n",
       "    </tr>\n",
       "    <tr>\n",
       "      <th>Cayo</th>\n",
       "      <td>$205.85</td>\n",
       "    </tr>\n",
       "    <tr>\n",
       "      <th>Corozal</th>\n",
       "      <td>$156.55</td>\n",
       "    </tr>\n",
       "    <tr>\n",
       "      <th>Orange Walk</th>\n",
       "      <td>$122.04</td>\n",
       "    </tr>\n",
       "    <tr>\n",
       "      <th>Stann Creek Islands</th>\n",
       "      <td>$1,136.17</td>\n",
       "    </tr>\n",
       "    <tr>\n",
       "      <th>Stann Creek Mainland</th>\n",
       "      <td>$456.99</td>\n",
       "    </tr>\n",
       "    <tr>\n",
       "      <th>Toledo Mainland</th>\n",
       "      <td>$222.98</td>\n",
       "    </tr>\n",
       "  </tbody>\n",
       "</table>\n",
       "</div>"
      ],
      "text/plain": [
       "                      Average Price\n",
       "neighbourhood                      \n",
       "Belize Islands              $399.44\n",
       "Belize Mainland             $288.27\n",
       "Cayo                        $205.85\n",
       "Corozal                     $156.55\n",
       "Orange Walk                 $122.04\n",
       "Stann Creek Islands       $1,136.17\n",
       "Stann Creek Mainland        $456.99\n",
       "Toledo Mainland             $222.98"
      ]
     },
     "execution_count": 15,
     "metadata": {},
     "output_type": "execute_result"
    }
   ],
   "source": [
    "avg_price_per_neighbourhood = pd.DataFrame(belize_df.groupby('neighbourhood')['price'].mean())\n",
    "avg_price_per_neighbourhood.columns = ['Average Price'] \n",
    "avg_price_per_neighbourhood"
   ]
  },
  {
   "cell_type": "markdown",
   "id": "df70f450",
   "metadata": {},
   "source": [
    "## Geometric Mean"
   ]
  },
  {
   "cell_type": "markdown",
   "id": "2d65e489",
   "metadata": {},
   "source": [
    "The geometric mean is the average rate of return of a set of values calculated using the products of the terms. This is useful in calculating the average of nonlinear data or when the data is multiplicative. Geometric means will always be slightly smaller than the arithmetic mean, which is a simple average."
   ]
  },
  {
   "cell_type": "code",
   "execution_count": 29,
   "id": "becf46fb",
   "metadata": {},
   "outputs": [
    {
     "name": "stdout",
     "output_type": "stream",
     "text": [
      "$234.73\n"
     ]
    }
   ],
   "source": [
    "# Here is an example of code to find the geometric mean of data in a dataframe. Geometric mean is best used for \n",
    "# multiplicative or data that has a nonlinear relationship. There really isn't a fantastic practical reason to find the \n",
    "# geometric mean of prices of Belize AirBnBs, but this will at least demonstrate syntax:\n",
    "\n",
    "#You need to import statistics from scipy\n",
    "geometric_mean = gmean(belize_df['price'])\n",
    "result = \"${:,.2f}\". format(geometric_mean) # <-- Just formatting my output as currency\n",
    "print(result)"
   ]
  },
  {
   "cell_type": "markdown",
   "id": "e0a31713",
   "metadata": {},
   "source": [
    "## Harmonic Mean"
   ]
  },
  {
   "cell_type": "markdown",
   "id": "83793658",
   "metadata": {},
   "source": [
    "Harmonic mean is best used to calculate average units such as speed, rates and ratios. Of all the Pythagorean means, it has the least value and is the truest average. "
   ]
  },
  {
   "cell_type": "code",
   "execution_count": 116,
   "id": "7b1afb3f",
   "metadata": {},
   "outputs": [
    {
     "data": {
      "text/plain": [
       "36.85579401854412"
      ]
     },
     "execution_count": 116,
     "metadata": {},
     "output_type": "execute_result"
    }
   ],
   "source": [
    "# Again, there isn't a very compelling reason to find the harmonic_mean of Belize AirBnB prices. Harmonic mean\n",
    "# is great for more accurately describing the mean between rates, like speed or rate. Here, however, is an example\n",
    "# of code needed to find the harmonic mean:\n",
    "\n",
    "#You need to import statistics\n",
    "# Also, harmonic mean calculations will not work on anything but positive integers, so I first need to clean my data by\n",
    "# dropping null or 0 values from my column:\n",
    "\n",
    "clean_data = pd.DataFrame(belize_df['availability_365'])\n",
    "len(clean_data) #<-- Checking how many rows there are in base column. There are 1810.\n",
    "\n",
    "a_series = (clean_data != 0).any(axis=1)\n",
    "cleaner_data = clean_data.loc[a_series] # Cleaning out rows with 0 values.\n",
    "len(cleaner_data) #<-- Checking how many rows there are now. There are 1707. This indicates \n",
    "                    #that I cleaned out some 0 values that would have broken my calculation.\n",
    "cleanerer_data = cleaner_data.dropna() # <- Here I'm dropping any Null or NaN values.\n",
    "len(cleanerer_data) #<-- Checking how many rows there are now. There are still 1707. I didn't \n",
    "                    #clean anything with that last command, but it is still good practice.\n",
    "#When I get to this point, I can't get around the following error message:\n",
    "#C:\\Python39\\lib\\statistics.py in _fail_neg(values, errmsg)\n",
    "#     286     \"\"\"Iterate over values, failing if any are less than zero.\"\"\"\n",
    "#     287     for x in values:\n",
    "# --> 288         if x < 0:\n",
    "#     289             raise StatisticsError(errmsg)\n",
    "#     290         yield x\n",
    "\n",
    "# TypeError: '<' not supported between instances of 'str' and 'int'\n",
    "    \n",
    "#However, converting my DataFrame to a Series fixes this, even tho converting to int does not:    \n",
    "cleanest_data = cleanerer_data.squeeze()\n",
    "   \n",
    "harmonic_mean(cleanest_data)"
   ]
  },
  {
   "cell_type": "markdown",
   "id": "29f664cc",
   "metadata": {},
   "source": [
    "## 2. Write a function to sort several subsequent inputs alphabetically.\n",
    "For example, if you first input ‘banana’ and next input ‘apple’, the first time [‘banana’] will be the output but the second time [‘apple’,’banana’] will be the output. The results should be stored until you restart your kernel. "
   ]
  },
  {
   "cell_type": "code",
   "execution_count": 14,
   "id": "6f9d8dcb",
   "metadata": {},
   "outputs": [
    {
     "data": {
      "text/plain": [
       "['caution']"
      ]
     },
     "execution_count": 14,
     "metadata": {},
     "output_type": "execute_result"
    }
   ],
   "source": [
    "w = []   # Here I make a global, empty list\n",
    "\n",
    "def alphabetize_me(*args): # Here I begin to define my funtion\n",
    "    for items in args:  # *args\n",
    "        w.append(items)\n",
    "        w.sort()\n",
    "    return w\n",
    "\n",
    "alphabetize_me('caution')"
   ]
  },
  {
   "cell_type": "code",
   "execution_count": 15,
   "id": "d5c77694",
   "metadata": {},
   "outputs": [
    {
     "data": {
      "text/plain": [
       "['caution', 'superstar']"
      ]
     },
     "execution_count": 15,
     "metadata": {},
     "output_type": "execute_result"
    }
   ],
   "source": [
    "alphabetize_me('superstar')"
   ]
  },
  {
   "cell_type": "code",
   "execution_count": 16,
   "id": "908aa162",
   "metadata": {},
   "outputs": [
    {
     "data": {
      "text/plain": [
       "['bearded', 'caution', 'superstar']"
      ]
     },
     "execution_count": 16,
     "metadata": {},
     "output_type": "execute_result"
    }
   ],
   "source": [
    "alphabetize_me('bearded')"
   ]
  },
  {
   "cell_type": "code",
   "execution_count": 17,
   "id": "819297d7",
   "metadata": {},
   "outputs": [
    {
     "data": {
      "text/plain": [
       "['bearded', 'caution', 'monotone', 'superstar']"
      ]
     },
     "execution_count": 17,
     "metadata": {},
     "output_type": "execute_result"
    }
   ],
   "source": [
    "alphabetize_me('monotone')"
   ]
  },
  {
   "cell_type": "code",
   "execution_count": null,
   "id": "d884ce34",
   "metadata": {},
   "outputs": [],
   "source": []
  }
 ],
 "metadata": {
  "kernelspec": {
   "display_name": "Python 3 (ipykernel)",
   "language": "python",
   "name": "python3"
  },
  "language_info": {
   "codemirror_mode": {
    "name": "ipython",
    "version": 3
   },
   "file_extension": ".py",
   "mimetype": "text/x-python",
   "name": "python",
   "nbconvert_exporter": "python",
   "pygments_lexer": "ipython3",
   "version": "3.9.7"
  }
 },
 "nbformat": 4,
 "nbformat_minor": 5
}
